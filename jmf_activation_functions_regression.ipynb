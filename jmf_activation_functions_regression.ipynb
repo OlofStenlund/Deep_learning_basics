{
 "cells": [
  {
   "cell_type": "code",
   "execution_count": 1,
   "metadata": {},
   "outputs": [],
   "source": [
    "import numpy as np\n",
    "import pandas as pd\n",
    "import matplotlib.pyplot as plt \n",
    "\n",
    "from sklearn.datasets import load_diabetes\n",
    "from sklearn.model_selection import train_test_split\n",
    "from sklearn.linear_model import LinearRegression\n",
    "from sklearn.ensemble import RandomForestRegressor\n",
    "from sklearn.metrics import mean_squared_error\n",
    "from sklearn.model_selection import GridSearchCV\n",
    "\n",
    "import tensorflow as tf\n",
    "from tensorflow import keras\n",
    "\n",
    "from keras.models import load_model\n",
    "\n",
    "from keras.layers import Dense, Input, BatchNormalization, LeakyReLU\n",
    "from keras.models import Sequential\n",
    "from keras.utils import to_categorical\n",
    "from keras.models import load_model\n",
    "from keras.callbacks import EarlyStopping"
   ]
  },
  {
   "cell_type": "code",
   "execution_count": 2,
   "metadata": {},
   "outputs": [
    {
     "data": {
      "text/plain": [
       "10"
      ]
     },
     "execution_count": 2,
     "metadata": {},
     "output_type": "execute_result"
    }
   ],
   "source": [
    "X, y = load_diabetes(return_X_y=True, as_frame=True)\n",
    "X_train, X_test, y_train, y_test = train_test_split(X, y, test_size=0.2, random_state=42)\n",
    "n_cols = X_train.shape[1]\n",
    "n_cols"
   ]
  },
  {
   "cell_type": "code",
   "execution_count": 3,
   "metadata": {},
   "outputs": [
    {
     "name": "stdout",
     "output_type": "stream",
     "text": [
      "Epoch 1/20\n"
     ]
    },
    {
     "name": "stderr",
     "output_type": "stream",
     "text": [
      "c:\\Users\\olofs\\anaconda3\\envs\\machine_learning\\lib\\site-packages\\keras\\engine\\data_adapter.py:1699: FutureWarning: The behavior of `series[i:j]` with an integer-dtype index is deprecated. In a future version, this will be treated as *label-based* indexing, consistent with e.g. `series[i]` lookups. To retain the old behavior, use `series.iloc[i:j]`. To get the future behavior, use `series.loc[i:j]`.\n",
      "  return t[start:end]\n"
     ]
    },
    {
     "name": "stdout",
     "output_type": "stream",
     "text": [
      "9/9 [==============================] - 1s 24ms/step - loss: 31435.4961 - val_loss: 22254.6680\n",
      "Epoch 2/20\n",
      "9/9 [==============================] - 0s 4ms/step - loss: 30923.2129 - val_loss: 21549.2051\n",
      "Epoch 3/20\n",
      "9/9 [==============================] - 0s 4ms/step - loss: 29724.9961 - val_loss: 20225.3770\n",
      "Epoch 4/20\n",
      "9/9 [==============================] - 0s 4ms/step - loss: 27651.4375 - val_loss: 18185.8730\n",
      "Epoch 5/20\n",
      "9/9 [==============================] - 0s 4ms/step - loss: 24680.0176 - val_loss: 15509.8184\n",
      "Epoch 6/20\n",
      "9/9 [==============================] - 0s 4ms/step - loss: 20864.3633 - val_loss: 12363.0820\n",
      "Epoch 7/20\n",
      "9/9 [==============================] - 0s 4ms/step - loss: 16532.6641 - val_loss: 9087.1260\n",
      "Epoch 8/20\n",
      "9/9 [==============================] - 0s 4ms/step - loss: 12179.1689 - val_loss: 6287.4639\n",
      "Epoch 9/20\n",
      "9/9 [==============================] - 0s 4ms/step - loss: 8451.4512 - val_loss: 4380.6909\n",
      "Epoch 10/20\n",
      "9/9 [==============================] - 0s 4ms/step - loss: 5830.7349 - val_loss: 3577.9954\n",
      "Epoch 11/20\n",
      "9/9 [==============================] - 0s 4ms/step - loss: 4514.2207 - val_loss: 3614.3447\n",
      "Epoch 12/20\n",
      "9/9 [==============================] - 0s 4ms/step - loss: 4157.0732 - val_loss: 3667.1206\n",
      "Epoch 13/20\n",
      "9/9 [==============================] - 0s 4ms/step - loss: 4024.0000 - val_loss: 3588.6499\n",
      "Epoch 14/20\n",
      "9/9 [==============================] - 0s 5ms/step - loss: 3882.8054 - val_loss: 3525.4009\n",
      "Epoch 15/20\n",
      "9/9 [==============================] - 0s 4ms/step - loss: 3776.1836 - val_loss: 3655.5105\n",
      "Epoch 16/20\n",
      "9/9 [==============================] - 0s 4ms/step - loss: 3657.7317 - val_loss: 3904.1021\n",
      "Epoch 17/20\n",
      "9/9 [==============================] - 0s 4ms/step - loss: 3555.6697 - val_loss: 3374.1418\n",
      "Epoch 18/20\n",
      "9/9 [==============================] - 0s 4ms/step - loss: 3506.6528 - val_loss: 3437.4390\n",
      "Epoch 19/20\n",
      "9/9 [==============================] - 0s 4ms/step - loss: 3412.6333 - val_loss: 3591.2834\n",
      "Epoch 20/20\n",
      "9/9 [==============================] - 0s 4ms/step - loss: 3342.6660 - val_loss: 3512.4084\n",
      "3/3 [==============================] - 0s 1ms/step\n"
     ]
    }
   ],
   "source": [
    "model_relu = Sequential()\n",
    "\n",
    "model_relu.add(Input(n_cols))\n",
    "model_relu.add(Dense(200, activation=keras.activations.relu))\n",
    "model_relu.add(Dense(100, activation=keras.activations.relu))\n",
    "model_relu.add(Dense(50, activation=keras.activations.relu))\n",
    "model_relu.add(Dense(1, activation=keras.activations.selu))\n",
    "\n",
    "model_relu.compile(optimizer='rmsprop', loss=keras.losses.mean_squared_error)\n",
    "\n",
    "early_stop = EarlyStopping(patience=5)\n",
    "model_relu.fit(X_train, y_train, validation_split = 0.2, epochs = 20, callbacks=[early_stop])\n",
    "y_pred_relu = model_relu.predict(X_test)\n",
    "res_model_relu = mean_squared_error(y_test, y_pred_relu)"
   ]
  },
  {
   "cell_type": "code",
   "execution_count": 4,
   "metadata": {},
   "outputs": [
    {
     "name": "stdout",
     "output_type": "stream",
     "text": [
      "Epoch 1/20\n"
     ]
    },
    {
     "name": "stderr",
     "output_type": "stream",
     "text": [
      "c:\\Users\\olofs\\anaconda3\\envs\\machine_learning\\lib\\site-packages\\keras\\engine\\data_adapter.py:1699: FutureWarning: The behavior of `series[i:j]` with an integer-dtype index is deprecated. In a future version, this will be treated as *label-based* indexing, consistent with e.g. `series[i]` lookups. To retain the old behavior, use `series.iloc[i:j]`. To get the future behavior, use `series.loc[i:j]`.\n",
      "  return t[start:end]\n"
     ]
    },
    {
     "name": "stdout",
     "output_type": "stream",
     "text": [
      "9/9 [==============================] - 1s 21ms/step - loss: 30696.3301 - val_loss: 20578.2754\n",
      "Epoch 2/20\n",
      "9/9 [==============================] - 0s 5ms/step - loss: 27440.8262 - val_loss: 17514.9961\n",
      "Epoch 3/20\n",
      "9/9 [==============================] - 0s 5ms/step - loss: 23394.4434 - val_loss: 14097.7715\n",
      "Epoch 4/20\n",
      "9/9 [==============================] - 0s 5ms/step - loss: 18881.7754 - val_loss: 10622.3359\n",
      "Epoch 5/20\n",
      "9/9 [==============================] - 0s 5ms/step - loss: 14261.6494 - val_loss: 7370.0498\n",
      "Epoch 6/20\n",
      "9/9 [==============================] - 0s 5ms/step - loss: 9990.3340 - val_loss: 4930.2925\n",
      "Epoch 7/20\n",
      "9/9 [==============================] - 0s 5ms/step - loss: 6878.6152 - val_loss: 3837.8833\n",
      "Epoch 8/20\n",
      "9/9 [==============================] - 0s 5ms/step - loss: 5177.7124 - val_loss: 3685.8533\n",
      "Epoch 9/20\n",
      "9/9 [==============================] - 0s 5ms/step - loss: 4527.8467 - val_loss: 3885.2156\n",
      "Epoch 10/20\n",
      "9/9 [==============================] - 0s 6ms/step - loss: 4267.2051 - val_loss: 3807.8293\n",
      "Epoch 11/20\n",
      "9/9 [==============================] - 0s 5ms/step - loss: 4089.6694 - val_loss: 3635.4231\n",
      "Epoch 12/20\n",
      "9/9 [==============================] - 0s 5ms/step - loss: 3906.4739 - val_loss: 3730.5212\n",
      "Epoch 13/20\n",
      "9/9 [==============================] - 0s 5ms/step - loss: 3764.7571 - val_loss: 3617.9939\n",
      "Epoch 14/20\n",
      "9/9 [==============================] - 0s 5ms/step - loss: 3590.7561 - val_loss: 3743.3450\n",
      "Epoch 15/20\n",
      "9/9 [==============================] - 0s 5ms/step - loss: 3476.2441 - val_loss: 3685.8525\n",
      "Epoch 16/20\n",
      "9/9 [==============================] - 0s 5ms/step - loss: 3429.0696 - val_loss: 3473.8794\n",
      "Epoch 17/20\n",
      "9/9 [==============================] - 0s 5ms/step - loss: 3312.3311 - val_loss: 3581.0273\n",
      "Epoch 18/20\n",
      "9/9 [==============================] - 0s 5ms/step - loss: 3230.9592 - val_loss: 3474.6917\n",
      "Epoch 19/20\n",
      "9/9 [==============================] - 0s 4ms/step - loss: 3183.5762 - val_loss: 3609.2061\n",
      "Epoch 20/20\n",
      "9/9 [==============================] - 0s 9ms/step - loss: 3124.0308 - val_loss: 3488.9565\n",
      "3/3 [==============================] - 0s 1ms/step\n"
     ]
    }
   ],
   "source": [
    "model_selu = Sequential()\n",
    "\n",
    "model_selu.add(Input(n_cols))\n",
    "model_selu.add(Dense(200, activation=keras.activations.selu))\n",
    "model_selu.add(Dense(100, activation=keras.activations.selu))\n",
    "model_selu.add(Dense(50, activation=keras.activations.selu))\n",
    "model_selu.add(Dense(1, activation=keras.activations.selu))\n",
    "\n",
    "model_selu.compile(optimizer='rmsprop', loss=keras.losses.mean_squared_error)\n",
    "\n",
    "early_stop = EarlyStopping(patience=5)\n",
    "model_selu.fit(X_train, y_train, validation_split = 0.2, epochs = 20, callbacks=[early_stop])\n",
    "y_pred_selu = model_selu.predict(X_test)\n",
    "res_model_selu = mean_squared_error(y_test, y_pred_selu)"
   ]
  },
  {
   "cell_type": "code",
   "execution_count": 5,
   "metadata": {},
   "outputs": [
    {
     "name": "stdout",
     "output_type": "stream",
     "text": [
      "Epoch 1/20\n"
     ]
    },
    {
     "name": "stderr",
     "output_type": "stream",
     "text": [
      "c:\\Users\\olofs\\anaconda3\\envs\\machine_learning\\lib\\site-packages\\keras\\engine\\data_adapter.py:1699: FutureWarning: The behavior of `series[i:j]` with an integer-dtype index is deprecated. In a future version, this will be treated as *label-based* indexing, consistent with e.g. `series[i]` lookups. To retain the old behavior, use `series.iloc[i:j]`. To get the future behavior, use `series.loc[i:j]`.\n",
      "  return t[start:end]\n"
     ]
    },
    {
     "name": "stdout",
     "output_type": "stream",
     "text": [
      "9/9 [==============================] - 1s 21ms/step - loss: 31152.5664 - val_loss: 21582.1309\n",
      "Epoch 2/20\n",
      "9/9 [==============================] - 0s 5ms/step - loss: 29258.7988 - val_loss: 19501.4707\n",
      "Epoch 3/20\n",
      "9/9 [==============================] - 0s 5ms/step - loss: 26257.4297 - val_loss: 16778.5840\n",
      "Epoch 4/20\n",
      "9/9 [==============================] - 0s 5ms/step - loss: 22295.7031 - val_loss: 13374.7402\n",
      "Epoch 5/20\n",
      "9/9 [==============================] - 0s 5ms/step - loss: 17654.2988 - val_loss: 9813.9893\n",
      "Epoch 6/20\n",
      "9/9 [==============================] - 0s 5ms/step - loss: 12907.1738 - val_loss: 6639.1611\n",
      "Epoch 7/20\n",
      "9/9 [==============================] - 0s 5ms/step - loss: 8761.3701 - val_loss: 4460.9180\n",
      "Epoch 8/20\n",
      "9/9 [==============================] - 0s 5ms/step - loss: 5890.9541 - val_loss: 3609.4475\n",
      "Epoch 9/20\n",
      "9/9 [==============================] - 0s 5ms/step - loss: 4533.5068 - val_loss: 3626.2271\n",
      "Epoch 10/20\n",
      "9/9 [==============================] - 0s 5ms/step - loss: 4117.2593 - val_loss: 3776.2874\n",
      "Epoch 11/20\n",
      "9/9 [==============================] - 0s 5ms/step - loss: 3972.0005 - val_loss: 3668.1687\n",
      "Epoch 12/20\n",
      "9/9 [==============================] - 0s 5ms/step - loss: 3824.8516 - val_loss: 4022.1841\n",
      "Epoch 13/20\n",
      "9/9 [==============================] - 0s 5ms/step - loss: 3726.7344 - val_loss: 3590.9478\n",
      "Epoch 14/20\n",
      "9/9 [==============================] - 0s 6ms/step - loss: 3635.1523 - val_loss: 3542.0864\n",
      "Epoch 15/20\n",
      "9/9 [==============================] - 0s 5ms/step - loss: 3470.0662 - val_loss: 3426.3472\n",
      "Epoch 16/20\n",
      "9/9 [==============================] - 0s 5ms/step - loss: 3402.6670 - val_loss: 3722.5071\n",
      "Epoch 17/20\n",
      "9/9 [==============================] - 0s 5ms/step - loss: 3365.4565 - val_loss: 3463.6035\n",
      "Epoch 18/20\n",
      "9/9 [==============================] - 0s 5ms/step - loss: 3281.7993 - val_loss: 3546.3438\n",
      "Epoch 19/20\n",
      "9/9 [==============================] - 0s 5ms/step - loss: 3197.0203 - val_loss: 3440.3972\n",
      "Epoch 20/20\n",
      "9/9 [==============================] - 0s 4ms/step - loss: 3152.8035 - val_loss: 3508.6179\n",
      "3/3 [==============================] - 0s 2ms/step\n"
     ]
    }
   ],
   "source": [
    "model_elu = Sequential()\n",
    "\n",
    "model_elu.add(Input(n_cols))\n",
    "model_elu.add(Dense(200, activation=keras.activations.elu))\n",
    "model_elu.add(Dense(100, activation=keras.activations.elu))\n",
    "model_elu.add(Dense(50, activation=keras.activations.elu))\n",
    "model_elu.add(Dense(1, activation=keras.activations.elu))\n",
    "\n",
    "model_elu.compile(optimizer='rmsprop', loss=keras.losses.mean_squared_error)\n",
    "\n",
    "early_stop = EarlyStopping(patience=5)\n",
    "model_elu.fit(X_train, y_train, validation_split = 0.2, epochs = 20, callbacks=[early_stop])\n",
    "y_pred_elu = model_elu.predict(X_test)\n",
    "res_model_elu = mean_squared_error(y_test, y_pred_elu)"
   ]
  },
  {
   "cell_type": "code",
   "execution_count": 6,
   "metadata": {},
   "outputs": [
    {
     "name": "stdout",
     "output_type": "stream",
     "text": [
      "Epoch 1/20\n"
     ]
    },
    {
     "name": "stderr",
     "output_type": "stream",
     "text": [
      "c:\\Users\\olofs\\anaconda3\\envs\\machine_learning\\lib\\site-packages\\keras\\engine\\data_adapter.py:1699: FutureWarning: The behavior of `series[i:j]` with an integer-dtype index is deprecated. In a future version, this will be treated as *label-based* indexing, consistent with e.g. `series[i]` lookups. To retain the old behavior, use `series.iloc[i:j]`. To get the future behavior, use `series.loc[i:j]`.\n",
      "  return t[start:end]\n"
     ]
    },
    {
     "name": "stdout",
     "output_type": "stream",
     "text": [
      "9/9 [==============================] - 1s 24ms/step - loss: 31488.1953 - val_loss: 22366.6055\n",
      "Epoch 2/20\n",
      "9/9 [==============================] - 0s 4ms/step - loss: 31108.2988 - val_loss: 21852.3184\n",
      "Epoch 3/20\n",
      "9/9 [==============================] - 0s 5ms/step - loss: 30288.7227 - val_loss: 21030.3027\n",
      "Epoch 4/20\n",
      "9/9 [==============================] - 0s 5ms/step - loss: 28979.2188 - val_loss: 19770.6367\n",
      "Epoch 5/20\n",
      "9/9 [==============================] - 0s 6ms/step - loss: 27141.6582 - val_loss: 18138.4941\n",
      "Epoch 6/20\n",
      "9/9 [==============================] - 0s 5ms/step - loss: 24784.8906 - val_loss: 16117.8330\n",
      "Epoch 7/20\n",
      "9/9 [==============================] - 0s 6ms/step - loss: 21868.8457 - val_loss: 13743.8174\n",
      "Epoch 8/20\n",
      "9/9 [==============================] - 0s 6ms/step - loss: 18533.2148 - val_loss: 11126.4316\n",
      "Epoch 9/20\n",
      "9/9 [==============================] - 0s 6ms/step - loss: 14909.9023 - val_loss: 8507.1406\n",
      "Epoch 10/20\n",
      "9/9 [==============================] - 0s 5ms/step - loss: 11367.6611 - val_loss: 6229.3530\n",
      "Epoch 11/20\n",
      "9/9 [==============================] - 0s 7ms/step - loss: 8351.8086 - val_loss: 4601.0083\n",
      "Epoch 12/20\n",
      "9/9 [==============================] - 0s 6ms/step - loss: 6070.2231 - val_loss: 3680.8621\n",
      "Epoch 13/20\n",
      "9/9 [==============================] - 0s 6ms/step - loss: 4680.7832 - val_loss: 3479.4177\n",
      "Epoch 14/20\n",
      "9/9 [==============================] - 0s 8ms/step - loss: 4082.7288 - val_loss: 3563.4907\n",
      "Epoch 15/20\n",
      "9/9 [==============================] - 0s 10ms/step - loss: 3902.2920 - val_loss: 3663.6267\n",
      "Epoch 16/20\n",
      "9/9 [==============================] - 0s 5ms/step - loss: 3797.1331 - val_loss: 3634.0942\n",
      "Epoch 17/20\n",
      "9/9 [==============================] - 0s 6ms/step - loss: 3702.6477 - val_loss: 3490.0830\n",
      "Epoch 18/20\n",
      "9/9 [==============================] - 0s 6ms/step - loss: 3641.7695 - val_loss: 3646.5522\n",
      "3/3 [==============================] - 0s 2ms/step\n"
     ]
    }
   ],
   "source": [
    "model_gelu = Sequential()\n",
    "\n",
    "model_gelu.add(Input(n_cols))\n",
    "model_gelu.add(Dense(200, activation=keras.activations.gelu))\n",
    "model_gelu.add(Dense(100, activation=keras.activations.gelu))\n",
    "model_gelu.add(Dense(50, activation=keras.activations.gelu))\n",
    "model_gelu.add(Dense(1, activation=keras.activations.gelu))\n",
    "\n",
    "model_gelu.compile(optimizer='rmsprop', loss=keras.losses.mean_squared_error)\n",
    "\n",
    "early_stop = EarlyStopping(patience=5)\n",
    "model_gelu.fit(X_train, y_train, validation_split = 0.2, epochs = 20, callbacks=[early_stop])\n",
    "y_pred_gelu = model_gelu.predict(X_test)\n",
    "res_model_gelu = mean_squared_error(y_test, y_pred_gelu)"
   ]
  },
  {
   "cell_type": "code",
   "execution_count": 7,
   "metadata": {},
   "outputs": [
    {
     "name": "stdout",
     "output_type": "stream",
     "text": [
      "Result of model_1: 55.504900678198226 \n",
      "Result of model_2: 54.95916706286022 \n",
      "Result of model_3: 55.008073326781705 \n",
      "Result of model_4: 57.01668623749998\n"
     ]
    }
   ],
   "source": [
    "sqrt_1 = np.sqrt(mean_squared_error(y_test, y_pred_relu))\n",
    "sqrt_2 = np.sqrt(mean_squared_error(y_test, y_pred_selu))\n",
    "sqrt_3 = np.sqrt(mean_squared_error(y_test, y_pred_elu))\n",
    "sqrt_4 = np.sqrt(mean_squared_error(y_test, y_pred_gelu))\n",
    "print(f\"Result of model_1: {sqrt_1} \\nResult of model_2: {sqrt_2} \\nResult of model_3: {sqrt_3} \\nResult of model_4: {sqrt_4}\")"
   ]
  }
 ],
 "metadata": {
  "kernelspec": {
   "display_name": "machine_learning",
   "language": "python",
   "name": "python3"
  },
  "language_info": {
   "codemirror_mode": {
    "name": "ipython",
    "version": 3
   },
   "file_extension": ".py",
   "mimetype": "text/x-python",
   "name": "python",
   "nbconvert_exporter": "python",
   "pygments_lexer": "ipython3",
   "version": "3.9.16"
  },
  "orig_nbformat": 4
 },
 "nbformat": 4,
 "nbformat_minor": 2
}
