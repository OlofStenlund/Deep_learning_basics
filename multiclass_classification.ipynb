{
 "cells": [
  {
   "cell_type": "code",
   "execution_count": 1,
   "metadata": {},
   "outputs": [],
   "source": [
    "from sklearn.datasets import fetch_openml\n",
    "import pandas\n",
    "import numpy\n",
    "from tensorflow import keras\n",
    "from sklearn.model_selection import train_test_split\n",
    "\n",
    "from keras.utils import to_categorical\n",
    "from keras.models import Sequential\n",
    "from keras.layers import Dense, Input\n",
    "from keras.callbacks import EarlyStopping\n",
    "from sklearn.metrics import accuracy_score, confusion_matrix, ConfusionMatrixDisplay, classification_report\n"
   ]
  },
  {
   "cell_type": "code",
   "execution_count": 2,
   "metadata": {},
   "outputs": [],
   "source": [
    "X, y = fetch_openml(\"mnist_784\", version=1, return_X_y=True, as_frame=False, parser=\"pandas\")"
   ]
  },
  {
   "cell_type": "markdown",
   "metadata": {},
   "source": [
    "Gör om labels till lika många klasser som antal noder i output layer"
   ]
  },
  {
   "cell_type": "code",
   "execution_count": 3,
   "metadata": {},
   "outputs": [],
   "source": [
    "y = to_categorical(y, num_classes=10)"
   ]
  },
  {
   "cell_type": "code",
   "execution_count": 4,
   "metadata": {},
   "outputs": [],
   "source": [
    "X_train, X_test, y_train, y_test = train_test_split(X, y, test_size=0.2)"
   ]
  },
  {
   "cell_type": "code",
   "execution_count": 5,
   "metadata": {},
   "outputs": [
    {
     "data": {
      "text/plain": [
       "(array([0., 1.], dtype=float32), array([630000,  70000], dtype=int64))"
      ]
     },
     "execution_count": 5,
     "metadata": {},
     "output_type": "execute_result"
    }
   ],
   "source": [
    "unique, counts = numpy.unique(y, return_counts=True)\n",
    "unique, counts"
   ]
  },
  {
   "cell_type": "code",
   "execution_count": 6,
   "metadata": {},
   "outputs": [
    {
     "name": "stdout",
     "output_type": "stream",
     "text": [
      "(56000, 784) (14000, 784)\n",
      "(56000, 10) (14000, 10)\n"
     ]
    }
   ],
   "source": [
    "print(X_train.shape, X_test.shape)\n",
    "print(y_train.shape, y_test.shape)"
   ]
  },
  {
   "cell_type": "code",
   "execution_count": 7,
   "metadata": {},
   "outputs": [
    {
     "data": {
      "text/plain": [
       "784"
      ]
     },
     "execution_count": 7,
     "metadata": {},
     "output_type": "execute_result"
    }
   ],
   "source": [
    "n_cols = X.shape[1]\n",
    "n_cols"
   ]
  },
  {
   "cell_type": "code",
   "execution_count": 8,
   "metadata": {},
   "outputs": [],
   "source": [
    "model = Sequential()\n",
    "\n",
    "model.add(Dense(500, activation='relu', input_shape=(784,)))\n",
    "model.add(Dense(500, activation='relu'))\n",
    "model.add(Dense(10, activation='softmax'))\n",
    "\n",
    "model.compile(optimizer='adam', loss = keras.losses.categorical_crossentropy, metrics=['accuracy'])\n",
    "\n",
    "early_stop = EarlyStopping(patience=4)"
   ]
  },
  {
   "cell_type": "code",
   "execution_count": 9,
   "metadata": {},
   "outputs": [
    {
     "name": "stdout",
     "output_type": "stream",
     "text": [
      "Model: \"sequential\"\n",
      "_________________________________________________________________\n",
      " Layer (type)                Output Shape              Param #   \n",
      "=================================================================\n",
      " dense (Dense)               (None, 500)               392500    \n",
      "                                                                 \n",
      " dense_1 (Dense)             (None, 500)               250500    \n",
      "                                                                 \n",
      " dense_2 (Dense)             (None, 10)                5010      \n",
      "                                                                 \n",
      "=================================================================\n",
      "Total params: 648,010\n",
      "Trainable params: 648,010\n",
      "Non-trainable params: 0\n",
      "_________________________________________________________________\n"
     ]
    }
   ],
   "source": [
    "model.summary()"
   ]
  },
  {
   "cell_type": "code",
   "execution_count": 10,
   "metadata": {},
   "outputs": [
    {
     "name": "stdout",
     "output_type": "stream",
     "text": [
      "Epoch 1/30\n",
      "1400/1400 [==============================] - 6s 4ms/step - loss: 1.7525 - accuracy: 0.8996 - val_loss: 0.3326 - val_accuracy: 0.9319\n",
      "Epoch 2/30\n",
      "1400/1400 [==============================] - 5s 4ms/step - loss: 0.2140 - accuracy: 0.9482 - val_loss: 0.2434 - val_accuracy: 0.9365\n",
      "Epoch 3/30\n",
      "1400/1400 [==============================] - 5s 4ms/step - loss: 0.1747 - accuracy: 0.9537 - val_loss: 0.2254 - val_accuracy: 0.9487\n",
      "Epoch 4/30\n",
      "1400/1400 [==============================] - 5s 4ms/step - loss: 0.1671 - accuracy: 0.9567 - val_loss: 0.2234 - val_accuracy: 0.9441\n",
      "Epoch 5/30\n",
      "1400/1400 [==============================] - 5s 4ms/step - loss: 0.1458 - accuracy: 0.9608 - val_loss: 0.1827 - val_accuracy: 0.9554\n",
      "Epoch 6/30\n",
      "1400/1400 [==============================] - 5s 4ms/step - loss: 0.1347 - accuracy: 0.9643 - val_loss: 0.1943 - val_accuracy: 0.9512\n",
      "Epoch 7/30\n",
      "1400/1400 [==============================] - 5s 4ms/step - loss: 0.1168 - accuracy: 0.9687 - val_loss: 0.1776 - val_accuracy: 0.9594\n",
      "Epoch 8/30\n",
      "1400/1400 [==============================] - 5s 4ms/step - loss: 0.1057 - accuracy: 0.9717 - val_loss: 0.1723 - val_accuracy: 0.9633\n",
      "Epoch 9/30\n",
      "1400/1400 [==============================] - 6s 4ms/step - loss: 0.1009 - accuracy: 0.9745 - val_loss: 0.2095 - val_accuracy: 0.9608\n",
      "Epoch 10/30\n",
      "1400/1400 [==============================] - 5s 4ms/step - loss: 0.0988 - accuracy: 0.9764 - val_loss: 0.2238 - val_accuracy: 0.9542\n",
      "Epoch 11/30\n",
      "1400/1400 [==============================] - 5s 4ms/step - loss: 0.0821 - accuracy: 0.9791 - val_loss: 0.1638 - val_accuracy: 0.9684\n",
      "Epoch 12/30\n",
      "1400/1400 [==============================] - 6s 4ms/step - loss: 0.0781 - accuracy: 0.9806 - val_loss: 0.1819 - val_accuracy: 0.9655\n",
      "Epoch 13/30\n",
      "1400/1400 [==============================] - 5s 4ms/step - loss: 0.0840 - accuracy: 0.9804 - val_loss: 0.2787 - val_accuracy: 0.9570\n",
      "Epoch 14/30\n",
      "1400/1400 [==============================] - 7s 5ms/step - loss: 0.0774 - accuracy: 0.9822 - val_loss: 0.2501 - val_accuracy: 0.9651\n",
      "Epoch 15/30\n",
      "1400/1400 [==============================] - 5s 4ms/step - loss: 0.0709 - accuracy: 0.9833 - val_loss: 0.2581 - val_accuracy: 0.9612\n"
     ]
    },
    {
     "data": {
      "text/plain": [
       "<keras.callbacks.History at 0x1e19fad5550>"
      ]
     },
     "execution_count": 10,
     "metadata": {},
     "output_type": "execute_result"
    }
   ],
   "source": [
    "model.fit(X_train, y_train, epochs=30, callbacks=[early_stop], validation_split=0.2)"
   ]
  },
  {
   "cell_type": "code",
   "execution_count": 11,
   "metadata": {},
   "outputs": [
    {
     "name": "stdout",
     "output_type": "stream",
     "text": [
      "438/438 [==============================] - 1s 1ms/step\n"
     ]
    }
   ],
   "source": [
    "y_pred = model.predict(X_test)"
   ]
  },
  {
   "cell_type": "code",
   "execution_count": 12,
   "metadata": {},
   "outputs": [
    {
     "data": {
      "text/plain": [
       "array([6, 7, 3, 5, 4], dtype=int64)"
      ]
     },
     "execution_count": 12,
     "metadata": {},
     "output_type": "execute_result"
    }
   ],
   "source": [
    "y_pred = numpy.argmax(y_pred, axis=1)\n",
    "y_pred[:5]"
   ]
  },
  {
   "cell_type": "code",
   "execution_count": 13,
   "metadata": {},
   "outputs": [
    {
     "data": {
      "text/plain": [
       "array([6, 7, 3, 5, 4], dtype=int64)"
      ]
     },
     "execution_count": 13,
     "metadata": {},
     "output_type": "execute_result"
    }
   ],
   "source": [
    "y_test = numpy.argmax(y_test, axis=1)\n",
    "y_test[:5]"
   ]
  },
  {
   "cell_type": "code",
   "execution_count": 14,
   "metadata": {},
   "outputs": [],
   "source": [
    "acc = accuracy_score(y_test, y_pred)"
   ]
  },
  {
   "cell_type": "code",
   "execution_count": 15,
   "metadata": {},
   "outputs": [
    {
     "data": {
      "text/plain": [
       "0.9607857142857142"
      ]
     },
     "execution_count": 15,
     "metadata": {},
     "output_type": "execute_result"
    }
   ],
   "source": [
    "acc"
   ]
  },
  {
   "cell_type": "code",
   "execution_count": 16,
   "metadata": {},
   "outputs": [
    {
     "data": {
      "text/plain": [
       "<sklearn.metrics._plot.confusion_matrix.ConfusionMatrixDisplay at 0x1e19ef349d0>"
      ]
     },
     "execution_count": 16,
     "metadata": {},
     "output_type": "execute_result"
    },
    {
     "data": {
      "image/png": "[encoded data removed]",
      "text/plain": [
       "<Figure size 640x480 with 2 Axes>"
      ]
     },
     "metadata": {},
     "output_type": "display_data"
    }
   ],
   "source": [
    "ConfusionMatrixDisplay(confusion_matrix(y_pred=y_pred, y_true=y_test)).plot()"
   ]
  }
 ],
 "metadata": {
  "kernelspec": {
   "display_name": "machine_learning",
   "language": "python",
   "name": "python3"
  },
  "language_info": {
   "codemirror_mode": {
    "name": "ipython",
    "version": 3
   },
   "file_extension": ".py",
   "mimetype": "text/x-python",
   "name": "python",
   "nbconvert_exporter": "python",
   "pygments_lexer": "ipython3",
   "version": "3.9.16"
  },
  "orig_nbformat": 4
 },
 "nbformat": 4,
 "nbformat_minor": 2
}
