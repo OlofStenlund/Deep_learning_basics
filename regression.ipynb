{
 "cells": [
  {
   "cell_type": "code",
   "execution_count": 78,
   "metadata": {},
   "outputs": [],
   "source": [
    "import numpy as np\n",
    "import pandas as pd\n",
    "import matplotlib.pyplot as plt \n",
    "\n",
    "from sklearn.datasets import load_diabetes\n",
    "from sklearn.model_selection import train_test_split\n",
    "from sklearn.linear_model import LinearRegression\n",
    "from sklearn.ensemble import RandomForestRegressor\n",
    "from sklearn.metrics import mean_squared_error\n",
    "from sklearn.model_selection import GridSearchCV\n",
    "\n",
    "import tensorflow as tf\n",
    "from tensorflow import keras\n",
    "\n",
    "from keras.models import load_model\n",
    "\n",
    "from keras.layers import Dense, Input, BatchNormalization, LeakyReLU\n",
    "from keras.models import Sequential\n",
    "from keras.utils import to_categorical\n",
    "from keras.models import load_model\n",
    "from keras.callbacks import EarlyStopping"
   ]
  },
  {
   "cell_type": "markdown",
   "metadata": {},
   "source": [
    "Dela datan i X och y, träning och validering"
   ]
  },
  {
   "cell_type": "code",
   "execution_count": 27,
   "metadata": {},
   "outputs": [],
   "source": [
    "X, y = load_diabetes(return_X_y=True, as_frame=True)\n",
    "X_train, X_test, y_train, y_test = train_test_split(X, y, test_size=0.2, random_state=42)"
   ]
  },
  {
   "cell_type": "code",
   "execution_count": 28,
   "metadata": {},
   "outputs": [
    {
     "name": "stderr",
     "output_type": "stream",
     "text": [
      "C:\\Users\\olofs\\AppData\\Local\\Temp\\ipykernel_3704\\1754177261.py:1: FutureWarning: The behavior of `series[i:j]` with an integer-dtype index is deprecated. In a future version, this will be treated as *label-based* indexing, consistent with e.g. `series[i]` lookups. To retain the old behavior, use `series.iloc[i:j]`. To get the future behavior, use `series.loc[i:j]`.\n",
      "  y_test[:5]\n"
     ]
    },
    {
     "data": {
      "text/plain": [
       "287    219.0\n",
       "211     70.0\n",
       "72     202.0\n",
       "321    230.0\n",
       "73     111.0\n",
       "Name: target, dtype: float64"
      ]
     },
     "execution_count": 28,
     "metadata": {},
     "output_type": "execute_result"
    }
   ],
   "source": [
    "y_test[:5]"
   ]
  },
  {
   "cell_type": "code",
   "execution_count": 29,
   "metadata": {},
   "outputs": [
    {
     "data": {
      "text/plain": [
       "10"
      ]
     },
     "execution_count": 29,
     "metadata": {},
     "output_type": "execute_result"
    }
   ],
   "source": [
    "# find the no of features\n",
    "n_cols = X_train.shape[1]\n",
    "n_cols"
   ]
  },
  {
   "cell_type": "markdown",
   "metadata": {},
   "source": [
    "Bygg modell 1"
   ]
  },
  {
   "cell_type": "markdown",
   "metadata": {},
   "source": [
    "1: instansiera modellen\n",
    "2: Skapa input lager. Kan vara dela av första dolda lagret, i det här fallet egen rad för tydlighet\n",
    "3: Lägg till dolda lager. Antal nauroner, aktiveringsfunktion\n",
    "4: Output-lagret har samma antal neuroner som möjliga utfall. I regression, ett lager. (binär klassificerar har en som är 0-1, multiklass har lika många som antalet klasser)\n",
    "5: Tänk på att aktiveringsfunktionen i outputlagret måste väljas med hänsyn till typen av problem."
   ]
  },
  {
   "cell_type": "code",
   "execution_count": 30,
   "metadata": {},
   "outputs": [],
   "source": [
    "model_1 = Sequential()\n",
    "\n",
    "model_1.add(Input(shape=n_cols))\n",
    "model_1.add(Dense(100, activation='relu'))\n",
    "model_1.add(Dense(100, activation='relu'))\n",
    "model_1.add(Dense(100, activation='relu'))\n",
    "model_1.add(Dense(1, activation='relu'))\n"
   ]
  },
  {
   "cell_type": "markdown",
   "metadata": {},
   "source": [
    "Modellen måste kompileras.\n",
    "Optimeringsfunktionen kan väljas om man kan vad de gör.\n",
    "Loss är den funktion vars värde ska minskas, så mse funkar bra i en regression.\n",
    "Andra parametrar: metrics"
   ]
  },
  {
   "cell_type": "code",
   "execution_count": 31,
   "metadata": {},
   "outputs": [],
   "source": [
    "model_1.compile(optimizer='adam', loss='mean_squared_error')\n"
   ]
  },
  {
   "cell_type": "markdown",
   "metadata": {},
   "source": [
    "Träna modellen\n",
    "Validation split indikerar hur mycket av träningsdatan som används i valideringssteget\n",
    "Epoker är antalet gånger hela datan gås igenom.\n",
    "Andra parametrar: batch size, callbacks, validation data, "
   ]
  },
  {
   "cell_type": "code",
   "execution_count": 32,
   "metadata": {},
   "outputs": [
    {
     "name": "stdout",
     "output_type": "stream",
     "text": [
      "Epoch 1/10\n"
     ]
    },
    {
     "name": "stderr",
     "output_type": "stream",
     "text": [
      "c:\\Users\\olofs\\anaconda3\\envs\\machine_learning\\lib\\site-packages\\keras\\engine\\data_adapter.py:1699: FutureWarning: The behavior of `series[i:j]` with an integer-dtype index is deprecated. In a future version, this will be treated as *label-based* indexing, consistent with e.g. `series[i]` lookups. To retain the old behavior, use `series.iloc[i:j]`. To get the future behavior, use `series.loc[i:j]`.\n",
      "  return t[start:end]\n"
     ]
    },
    {
     "name": "stdout",
     "output_type": "stream",
     "text": [
      "9/9 [==============================] - 1s 23ms/step - loss: 31500.1133 - val_loss: 22429.4824\n",
      "Epoch 2/10\n",
      "9/9 [==============================] - 0s 4ms/step - loss: 31393.3574 - val_loss: 22296.0273\n",
      "Epoch 3/10\n",
      "9/9 [==============================] - 0s 4ms/step - loss: 31150.9961 - val_loss: 21979.8242\n",
      "Epoch 4/10\n",
      "9/9 [==============================] - 0s 4ms/step - loss: 30570.5098 - val_loss: 21267.8828\n",
      "Epoch 5/10\n",
      "9/9 [==============================] - 0s 4ms/step - loss: 29309.4785 - val_loss: 19815.1816\n",
      "Epoch 6/10\n",
      "9/9 [==============================] - 0s 5ms/step - loss: 26876.9414 - val_loss: 17195.5371\n",
      "Epoch 7/10\n",
      "9/9 [==============================] - 0s 4ms/step - loss: 22708.1113 - val_loss: 13094.7852\n",
      "Epoch 8/10\n",
      "9/9 [==============================] - 0s 4ms/step - loss: 16621.8418 - val_loss: 7996.6040\n",
      "Epoch 9/10\n",
      "9/9 [==============================] - 0s 4ms/step - loss: 9699.7998 - val_loss: 4077.1436\n",
      "Epoch 10/10\n",
      "9/9 [==============================] - 0s 4ms/step - loss: 5040.2153 - val_loss: 4116.9707\n"
     ]
    },
    {
     "data": {
      "text/plain": [
       "<keras.callbacks.History at 0x17772471790>"
      ]
     },
     "execution_count": 32,
     "metadata": {},
     "output_type": "execute_result"
    }
   ],
   "source": [
    "model_1.fit(X_train, y_train, validation_split = 0.2, epochs = 10)"
   ]
  },
  {
   "cell_type": "code",
   "execution_count": 33,
   "metadata": {},
   "outputs": [
    {
     "name": "stdout",
     "output_type": "stream",
     "text": [
      "WARNING:tensorflow:5 out of the last 13 calls to <function Model.make_predict_function.<locals>.predict_function at 0x0000017775053E50> triggered tf.function retracing. Tracing is expensive and the excessive number of tracings could be due to (1) creating @tf.function repeatedly in a loop, (2) passing tensors with different shapes, (3) passing Python objects instead of tensors. For (1), please define your @tf.function outside of the loop. For (2), @tf.function has reduce_retracing=True option that can avoid unnecessary retracing. For (3), please refer to https://www.tensorflow.org/guide/function#controlling_retracing and https://www.tensorflow.org/api_docs/python/tf/function for  more details.\n",
      "3/3 [==============================] - 0s 1ms/step\n"
     ]
    }
   ],
   "source": [
    "y_pred_1 = model_1.predict(X_test)"
   ]
  },
  {
   "cell_type": "code",
   "execution_count": 34,
   "metadata": {},
   "outputs": [
    {
     "data": {
      "text/plain": [
       "pandas.core.series.Series"
      ]
     },
     "execution_count": 34,
     "metadata": {},
     "output_type": "execute_result"
    }
   ],
   "source": [
    "type(y_test)"
   ]
  },
  {
   "cell_type": "code",
   "execution_count": 35,
   "metadata": {},
   "outputs": [
    {
     "data": {
      "text/plain": [
       "numpy.ndarray"
      ]
     },
     "execution_count": 35,
     "metadata": {},
     "output_type": "execute_result"
    }
   ],
   "source": [
    "type(y_pred_1)"
   ]
  },
  {
   "cell_type": "code",
   "execution_count": 36,
   "metadata": {},
   "outputs": [],
   "source": [
    "res_model_1 = mean_squared_error(y_test, y_pred_1)"
   ]
  },
  {
   "cell_type": "markdown",
   "metadata": {},
   "source": [
    "Build another model"
   ]
  },
  {
   "cell_type": "code",
   "execution_count": 37,
   "metadata": {},
   "outputs": [],
   "source": [
    "model_2 = Sequential()\n",
    "\n",
    "model_2.add(Input(n_cols))\n",
    "model_2.add(Dense(200, activation=keras.activations.tanh))\n",
    "model_2.add(Dense(100, activation=keras.activations.tanh))\n",
    "model_2.add(Dense(50, activation=keras.activations.tanh))\n",
    "model_2.add(Dense(1, activation=keras.activations.swish))\n",
    "\n",
    "model_2.compile(optimizer='rmsprop', loss=keras.losses.mean_squared_error)"
   ]
  },
  {
   "cell_type": "markdown",
   "metadata": {},
   "source": [
    "Lägg till callbacks, i det här fallet en earlyt stop."
   ]
  },
  {
   "cell_type": "code",
   "execution_count": 38,
   "metadata": {},
   "outputs": [],
   "source": [
    "early_stop = EarlyStopping(patience=5)"
   ]
  },
  {
   "cell_type": "markdown",
   "metadata": {},
   "source": [
    "callbacks is a list, since you can have sevaral callbacks at the same time"
   ]
  },
  {
   "cell_type": "code",
   "execution_count": 39,
   "metadata": {},
   "outputs": [
    {
     "name": "stdout",
     "output_type": "stream",
     "text": [
      "Epoch 1/20\n"
     ]
    },
    {
     "name": "stderr",
     "output_type": "stream",
     "text": [
      "c:\\Users\\olofs\\anaconda3\\envs\\machine_learning\\lib\\site-packages\\keras\\engine\\data_adapter.py:1699: FutureWarning: The behavior of `series[i:j]` with an integer-dtype index is deprecated. In a future version, this will be treated as *label-based* indexing, consistent with e.g. `series[i]` lookups. To retain the old behavior, use `series.iloc[i:j]`. To get the future behavior, use `series.loc[i:j]`.\n",
      "  return t[start:end]\n"
     ]
    },
    {
     "name": "stdout",
     "output_type": "stream",
     "text": [
      "9/9 [==============================] - 1s 20ms/step - loss: 31242.1445 - val_loss: 21642.1445\n",
      "Epoch 2/20\n",
      "9/9 [==============================] - 0s 5ms/step - loss: 29742.3164 - val_loss: 20521.3848\n",
      "Epoch 3/20\n",
      "9/9 [==============================] - 0s 4ms/step - loss: 28855.2461 - val_loss: 20067.7402\n",
      "Epoch 4/20\n",
      "9/9 [==============================] - 0s 5ms/step - loss: 28489.7617 - val_loss: 19840.0449\n",
      "Epoch 5/20\n",
      "9/9 [==============================] - 0s 6ms/step - loss: 28275.3398 - val_loss: 19683.2031\n",
      "Epoch 6/20\n",
      "9/9 [==============================] - 0s 5ms/step - loss: 28109.3574 - val_loss: 19552.1895\n",
      "Epoch 7/20\n",
      "9/9 [==============================] - 0s 5ms/step - loss: 27960.0918 - val_loss: 19429.6934\n",
      "Epoch 8/20\n",
      "9/9 [==============================] - 0s 5ms/step - loss: 27818.5605 - val_loss: 19314.1582\n",
      "Epoch 9/20\n",
      "9/9 [==============================] - 0s 4ms/step - loss: 27681.1777 - val_loss: 19199.8691\n",
      "Epoch 10/20\n",
      "9/9 [==============================] - 0s 4ms/step - loss: 27545.9141 - val_loss: 19088.1699\n",
      "Epoch 11/20\n",
      "9/9 [==============================] - 0s 4ms/step - loss: 27412.3867 - val_loss: 18978.0566\n",
      "Epoch 12/20\n",
      "9/9 [==============================] - 0s 5ms/step - loss: 27280.1523 - val_loss: 18868.0176\n",
      "Epoch 13/20\n",
      "9/9 [==============================] - 0s 5ms/step - loss: 27147.6309 - val_loss: 18758.5488\n",
      "Epoch 14/20\n",
      "9/9 [==============================] - 0s 4ms/step - loss: 27016.3242 - val_loss: 18649.9004\n",
      "Epoch 15/20\n",
      "9/9 [==============================] - 0s 5ms/step - loss: 26885.6719 - val_loss: 18541.4746\n",
      "Epoch 16/20\n",
      "9/9 [==============================] - 0s 5ms/step - loss: 26754.8125 - val_loss: 18433.3613\n",
      "Epoch 17/20\n",
      "9/9 [==============================] - 0s 6ms/step - loss: 26624.1777 - val_loss: 18325.4844\n",
      "Epoch 18/20\n",
      "9/9 [==============================] - 0s 6ms/step - loss: 26494.3945 - val_loss: 18218.8125\n",
      "Epoch 19/20\n",
      "9/9 [==============================] - 0s 5ms/step - loss: 26364.3555 - val_loss: 18110.9023\n",
      "Epoch 20/20\n",
      "9/9 [==============================] - 0s 4ms/step - loss: 26235.4395 - val_loss: 18005.0703\n"
     ]
    },
    {
     "data": {
      "text/plain": [
       "<keras.callbacks.History at 0x1777628bc70>"
      ]
     },
     "execution_count": 39,
     "metadata": {},
     "output_type": "execute_result"
    }
   ],
   "source": [
    "model_2.fit(X_train, y_train, validation_split = 0.2, epochs = 20, callbacks=[early_stop])"
   ]
  },
  {
   "cell_type": "code",
   "execution_count": 40,
   "metadata": {},
   "outputs": [
    {
     "name": "stdout",
     "output_type": "stream",
     "text": [
      "WARNING:tensorflow:5 out of the last 13 calls to <function Model.make_predict_function.<locals>.predict_function at 0x00000177763383A0> triggered tf.function retracing. Tracing is expensive and the excessive number of tracings could be due to (1) creating @tf.function repeatedly in a loop, (2) passing tensors with different shapes, (3) passing Python objects instead of tensors. For (1), please define your @tf.function outside of the loop. For (2), @tf.function has reduce_retracing=True option that can avoid unnecessary retracing. For (3), please refer to https://www.tensorflow.org/guide/function#controlling_retracing and https://www.tensorflow.org/api_docs/python/tf/function for  more details.\n",
      "3/3 [==============================] - 0s 2ms/step\n"
     ]
    }
   ],
   "source": [
    "y_pred_2 = model_2.predict(X_test)"
   ]
  },
  {
   "cell_type": "code",
   "execution_count": 41,
   "metadata": {},
   "outputs": [],
   "source": [
    "res_model_2 = mean_squared_error(y_test, y_pred_2)"
   ]
  },
  {
   "cell_type": "code",
   "execution_count": 42,
   "metadata": {},
   "outputs": [
    {
     "name": "stdout",
     "output_type": "stream",
     "text": [
      "Result of model_1: 3841.9144964185584 \n",
      "Result of model_2: 21644.697656617824\n"
     ]
    }
   ],
   "source": [
    "print(f\"Result of model_1: {res_model_1} \\nResult of model_2: {res_model_2}\")"
   ]
  },
  {
   "cell_type": "markdown",
   "metadata": {},
   "source": [
    "Build model 3, with the structure of model 2, but the funtions from model 1"
   ]
  },
  {
   "cell_type": "code",
   "execution_count": 43,
   "metadata": {},
   "outputs": [
    {
     "name": "stdout",
     "output_type": "stream",
     "text": [
      "Epoch 1/20\n"
     ]
    },
    {
     "name": "stderr",
     "output_type": "stream",
     "text": [
      "c:\\Users\\olofs\\anaconda3\\envs\\machine_learning\\lib\\site-packages\\keras\\engine\\data_adapter.py:1699: FutureWarning: The behavior of `series[i:j]` with an integer-dtype index is deprecated. In a future version, this will be treated as *label-based* indexing, consistent with e.g. `series[i]` lookups. To retain the old behavior, use `series.iloc[i:j]`. To get the future behavior, use `series.loc[i:j]`.\n",
      "  return t[start:end]\n"
     ]
    },
    {
     "name": "stdout",
     "output_type": "stream",
     "text": [
      "9/9 [==============================] - 1s 21ms/step - loss: 31470.1211 - val_loss: 22299.2148\n",
      "Epoch 2/20\n",
      "9/9 [==============================] - 0s 4ms/step - loss: 30850.2871 - val_loss: 21380.3730\n",
      "Epoch 3/20\n",
      "9/9 [==============================] - 0s 5ms/step - loss: 29371.0273 - val_loss: 19872.0723\n",
      "Epoch 4/20\n",
      "9/9 [==============================] - 0s 5ms/step - loss: 27080.5859 - val_loss: 17686.9727\n",
      "Epoch 5/20\n",
      "9/9 [==============================] - 0s 5ms/step - loss: 23840.2734 - val_loss: 14812.2871\n",
      "Epoch 6/20\n",
      "9/9 [==============================] - 0s 5ms/step - loss: 19705.7988 - val_loss: 11436.4258\n",
      "Epoch 7/20\n",
      "9/9 [==============================] - 0s 5ms/step - loss: 15209.8613 - val_loss: 8245.0967\n",
      "Epoch 8/20\n",
      "9/9 [==============================] - 0s 4ms/step - loss: 10810.2559 - val_loss: 5469.6865\n",
      "Epoch 9/20\n",
      "9/9 [==============================] - 0s 9ms/step - loss: 7207.3672 - val_loss: 3892.8284\n",
      "Epoch 10/20\n",
      "9/9 [==============================] - 0s 8ms/step - loss: 5026.2231 - val_loss: 3512.5002\n",
      "Epoch 11/20\n",
      "9/9 [==============================] - 0s 5ms/step - loss: 4214.1890 - val_loss: 3616.2129\n",
      "Epoch 12/20\n",
      "9/9 [==============================] - 0s 4ms/step - loss: 4033.1768 - val_loss: 3605.6685\n",
      "Epoch 13/20\n",
      "9/9 [==============================] - 0s 5ms/step - loss: 3929.6272 - val_loss: 3741.5273\n",
      "Epoch 14/20\n",
      "9/9 [==============================] - 0s 5ms/step - loss: 3813.9675 - val_loss: 3739.7461\n",
      "Epoch 15/20\n",
      "9/9 [==============================] - 0s 5ms/step - loss: 3716.1348 - val_loss: 3663.1860\n",
      "3/3 [==============================] - 0s 2ms/step\n"
     ]
    }
   ],
   "source": [
    "model_3 = Sequential()\n",
    "\n",
    "model_3.add(Input(n_cols))\n",
    "model_3.add(Dense(200, activation=keras.activations.relu))\n",
    "model_3.add(Dense(100, activation=keras.activations.relu))\n",
    "model_3.add(Dense(50, activation=keras.activations.relu))\n",
    "model_3.add(Dense(1, activation=keras.activations.swish))\n",
    "\n",
    "model_3.compile(optimizer='rmsprop', loss=keras.losses.mean_squared_error)\n",
    "\n",
    "early_stop = EarlyStopping(patience=5)\n",
    "model_3.fit(X_train, y_train, validation_split = 0.2, epochs = 20, callbacks=[early_stop])\n",
    "y_pred_3 = model_3.predict(X_test)\n",
    "res_model_3 = mean_squared_error(y_test, y_pred_3)"
   ]
  },
  {
   "cell_type": "code",
   "execution_count": 44,
   "metadata": {},
   "outputs": [
    {
     "name": "stdout",
     "output_type": "stream",
     "text": [
      "Result of model_1: 3841.9144964185584 \n",
      "Result of model_2: 21644.697656617824 \n",
      "Results of model_3: 3299.3221655739\n"
     ]
    }
   ],
   "source": [
    "print(f\"Result of model_1: {res_model_1} \\nResult of model_2: {res_model_2} \\nResults of model_3: {res_model_3}\")"
   ]
  },
  {
   "cell_type": "code",
   "execution_count": 45,
   "metadata": {},
   "outputs": [
    {
     "name": "stderr",
     "output_type": "stream",
     "text": [
      "C:\\Users\\olofs\\AppData\\Local\\Temp\\ipykernel_3704\\3374873548.py:1: FutureWarning: The behavior of `series[i:j]` with an integer-dtype index is deprecated. In a future version, this will be treated as *label-based* indexing, consistent with e.g. `series[i]` lookups. To retain the old behavior, use `series.iloc[i:j]`. To get the future behavior, use `series.loc[i:j]`.\n",
      "  y_test[0:5]\n"
     ]
    },
    {
     "data": {
      "text/plain": [
       "287    219.0\n",
       "211     70.0\n",
       "72     202.0\n",
       "321    230.0\n",
       "73     111.0\n",
       "Name: target, dtype: float64"
      ]
     },
     "execution_count": 45,
     "metadata": {},
     "output_type": "execute_result"
    }
   ],
   "source": [
    "y_test[0:5]"
   ]
  },
  {
   "cell_type": "code",
   "execution_count": 46,
   "metadata": {},
   "outputs": [
    {
     "data": {
      "text/plain": [
       "array([[175.69168],\n",
       "       [173.44817],\n",
       "       [175.30165],\n",
       "       [232.3956 ],\n",
       "       [166.77913]], dtype=float32)"
      ]
     },
     "execution_count": 46,
     "metadata": {},
     "output_type": "execute_result"
    }
   ],
   "source": [
    "y_pred_1[0:5]"
   ]
  },
  {
   "cell_type": "markdown",
   "metadata": {},
   "source": [
    "Hur kan mse vara 3600 om prediktionerna och testen ser ut som de gör ovan? Så mycket skilljer det inte. Root?\n",
    "Efterssom skillnaden till mean kan vara både positivt och negativt borde vi ta roten, ser bättre ut."
   ]
  },
  {
   "cell_type": "code",
   "execution_count": 47,
   "metadata": {},
   "outputs": [],
   "source": [
    "# sqrt_1 = np.sqrt(mean_squared_error(y_test, y_pred_1))\n",
    "# sqrt_2 = np.sqrt(mean_squared_error(y_test, y_pred_2))\n",
    "# sqrt_3 = np.sqrt(mean_squared_error(y_test, y_pred_3))"
   ]
  },
  {
   "cell_type": "markdown",
   "metadata": {},
   "source": [
    "Sista modellen bäst."
   ]
  },
  {
   "cell_type": "markdown",
   "metadata": {},
   "source": [
    "Bygg modell 4. Försök förbättra modell 3"
   ]
  },
  {
   "cell_type": "markdown",
   "metadata": {},
   "source": [
    "Verkar som att batchnotmalization ger värre resultat.\n",
    "Leakyrelu verkar ge lite bättre resultat\n"
   ]
  },
  {
   "cell_type": "code",
   "execution_count": 100,
   "metadata": {},
   "outputs": [
    {
     "name": "stdout",
     "output_type": "stream",
     "text": [
      "Epoch 1/50\n"
     ]
    },
    {
     "name": "stderr",
     "output_type": "stream",
     "text": [
      "c:\\Users\\olofs\\anaconda3\\envs\\machine_learning\\lib\\site-packages\\keras\\engine\\data_adapter.py:1699: FutureWarning: The behavior of `series[i:j]` with an integer-dtype index is deprecated. In a future version, this will be treated as *label-based* indexing, consistent with e.g. `series[i]` lookups. To retain the old behavior, use `series.iloc[i:j]`. To get the future behavior, use `series.loc[i:j]`.\n",
      "  return t[start:end]\n"
     ]
    },
    {
     "name": "stdout",
     "output_type": "stream",
     "text": [
      "9/9 [==============================] - 2s 27ms/step - loss: 19225.5293 - val_loss: 3535.3733\n",
      "Epoch 2/50\n",
      "9/9 [==============================] - 0s 11ms/step - loss: 4325.2500 - val_loss: 3581.1990\n",
      "Epoch 3/50\n",
      "9/9 [==============================] - 0s 11ms/step - loss: 4186.0801 - val_loss: 3348.2844\n",
      "Epoch 4/50\n",
      "9/9 [==============================] - 0s 12ms/step - loss: 4621.6597 - val_loss: 3119.9609\n",
      "Epoch 5/50\n",
      "9/9 [==============================] - 0s 11ms/step - loss: 4158.0850 - val_loss: 3758.3345\n",
      "Epoch 6/50\n",
      "9/9 [==============================] - 0s 11ms/step - loss: 4087.1233 - val_loss: 3321.4995\n",
      "Epoch 7/50\n",
      "9/9 [==============================] - 0s 11ms/step - loss: 4382.0786 - val_loss: 3341.5454\n",
      "Epoch 8/50\n",
      "9/9 [==============================] - 0s 11ms/step - loss: 3805.4507 - val_loss: 4411.1030\n",
      "Epoch 9/50\n",
      "9/9 [==============================] - 0s 12ms/step - loss: 3032.6978 - val_loss: 5360.1934\n",
      "Epoch 10/50\n",
      "9/9 [==============================] - 0s 11ms/step - loss: 4231.7466 - val_loss: 3880.7078\n",
      "Epoch 11/50\n",
      "9/9 [==============================] - 0s 11ms/step - loss: 4369.7334 - val_loss: 4194.0669\n",
      "Epoch 12/50\n",
      "9/9 [==============================] - 0s 11ms/step - loss: 3674.6152 - val_loss: 3575.0618\n",
      "Epoch 13/50\n",
      "9/9 [==============================] - 0s 12ms/step - loss: 4092.9517 - val_loss: 4288.9756\n",
      "Epoch 14/50\n",
      "9/9 [==============================] - 0s 12ms/step - loss: 3749.4104 - val_loss: 3290.0527\n",
      "Epoch 15/50\n",
      "9/9 [==============================] - 0s 11ms/step - loss: 4230.1572 - val_loss: 3724.7412\n",
      "Epoch 16/50\n",
      "9/9 [==============================] - 0s 11ms/step - loss: 3527.3252 - val_loss: 4101.4766\n",
      "Epoch 17/50\n",
      "9/9 [==============================] - 0s 11ms/step - loss: 4594.9844 - val_loss: 3361.4990\n",
      "Epoch 18/50\n",
      "9/9 [==============================] - 0s 11ms/step - loss: 3276.8032 - val_loss: 3962.5862\n",
      "Epoch 19/50\n",
      "9/9 [==============================] - 0s 11ms/step - loss: 3839.3745 - val_loss: 3348.5054\n",
      "3/3 [==============================] - 0s 2ms/step\n"
     ]
    }
   ],
   "source": [
    "model_4 = Sequential()\n",
    "\n",
    "model_4.add(Input(n_cols))\n",
    "model_4.add(LeakyReLU())\n",
    "model_4.add(Dense(500))\n",
    "model_4.add(LeakyReLU())\n",
    "model_4.add(Dense(500))\n",
    "model_4.add(LeakyReLU())\n",
    "model_4.add(Dense(500))\n",
    "model_4.add(LeakyReLU())\n",
    "model_4.add(Dense(500))\n",
    "model_4.add(Dense(500, activation='relu'))\n",
    "model_4.add(Dense(1, activation='linear'))\n",
    "\n",
    "\n",
    "model_4.compile(optimizer='rmsprop', loss=keras.losses.mean_squared_error)\n",
    "\n",
    "early_stop = EarlyStopping(patience=15)\n",
    "model_4.fit(X_train, y_train, validation_split = 0.2, epochs = 50, callbacks=[early_stop])\n",
    "y_pred_4 = model_4.predict(X_test)\n",
    "res_model_4 = mean_squared_error(y_test, y_pred_4)"
   ]
  },
  {
   "cell_type": "code",
   "execution_count": 101,
   "metadata": {},
   "outputs": [],
   "source": [
    "sqrt_1 = np.sqrt(mean_squared_error(y_test, y_pred_1))\n",
    "sqrt_2 = np.sqrt(mean_squared_error(y_test, y_pred_2))\n",
    "sqrt_3 = np.sqrt(mean_squared_error(y_test, y_pred_3))\n",
    "sqrt_4 = np.sqrt(mean_squared_error(y_test, y_pred_4))"
   ]
  },
  {
   "cell_type": "code",
   "execution_count": 102,
   "metadata": {},
   "outputs": [
    {
     "name": "stdout",
     "output_type": "stream",
     "text": [
      "Result of model_1: 61.98317914094564 \n",
      "Result of model_2: 147.12137049598817 \n",
      "Result of model_3: 57.43972637098735 \n",
      "Result of model_4: 55.03429193898584\n"
     ]
    }
   ],
   "source": [
    "print(f\"Result of model_1: {sqrt_1} \\nResult of model_2: {sqrt_2} \\nResult of model_3: {sqrt_3} \\nResult of model_4: {sqrt_4}\")"
   ]
  }
 ],
 "metadata": {
  "kernelspec": {
   "display_name": "machine_learning",
   "language": "python",
   "name": "python3"
  },
  "language_info": {
   "codemirror_mode": {
    "name": "ipython",
    "version": 3
   },
   "file_extension": ".py",
   "mimetype": "text/x-python",
   "name": "python",
   "nbconvert_exporter": "python",
   "pygments_lexer": "ipython3",
   "version": "3.9.16"
  },
  "orig_nbformat": 4
 },
 "nbformat": 4,
 "nbformat_minor": 2
}
